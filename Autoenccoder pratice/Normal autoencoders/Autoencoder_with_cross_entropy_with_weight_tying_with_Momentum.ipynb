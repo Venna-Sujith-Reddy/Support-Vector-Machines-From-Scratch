{
 "cells": [
  {
   "cell_type": "code",
   "execution_count": 1,
   "metadata": {},
   "outputs": [],
   "source": [
    "import numpy as np\n",
    "class Autoencoder_with_cross_entropy_with_weight_tying_with_Momentum:\n",
    "    def __init__(self,X,hidden_dim):\n",
    "        self.input_dim = X.shape[0]\n",
    "        self.hidden_dim = hidden_dim\n",
    "        self.output_dim = X.shape[0]\n",
    "        self.weights_input_hidden = np.random.randn(self.hidden_dim,self.input_dim)*np.sqrt(1/self.input_dim)\n",
    "        \n",
    "        # *np.sqrt(2/self.layer_sizes[i]))\n",
    "        \n",
    "        self.momentum_input_hidden=np.zeros((self.hidden_dim,self.input_dim))\n",
    "        \n",
    "        \n",
    "        self.bias_input_hidden=np.zeros((self.hidden_dim,1))\n",
    "        self.bias_hidden_output=np.zeros((self.output_dim,1))\n",
    "        self.bias_hidden_output_momentum=np.zeros((self.output_dim,1))\n",
    "        self.bias_input_hidden_momentum=np.zeros((self.hidden_dim,1))\n",
    "        \n",
    "    def sigmoid(self,z):\n",
    "         \n",
    "        return 1/(1+np.exp(-z))\n",
    "    \n",
    "    \n",
    "    def sigmoid_derivative(self,a):\n",
    "        return a*(1-a)\n",
    "    \n",
    "    def lossfunction(self,a,X):\n",
    "        \n",
    "        eps = 1e-10\n",
    "        return -np.mean(X*np.log(a + eps)+(1-X)*np.log(1-a + eps))\n",
    "\n",
    "    \n",
    "        \n",
    "    def forward(self,X):\n",
    "        \n",
    "        z1=self.weights_input_hidden@X+self.bias_input_hidden\n",
    "        a1=self.sigmoid(z1)\n",
    "        z2=self.weights_input_hidden.T@a1+self.bias_hidden_output\n",
    "        a2=self.sigmoid(z2)\n",
    "        \n",
    "        return z1,a1,z2,a2\n",
    "    \n",
    "    def derivative_sigmoid(self,z): \n",
    "        \n",
    "        return z*(1-z)\n",
    "    \n",
    "    def derivative_lossfunction(self,a,X):\n",
    "        eps = 1e-10\n",
    "        return -X/a+(1-X)/(1-a+eps)\n",
    "\n",
    "    def backward(self,X,a2,z2,a1,z1):\n",
    "        \n",
    "        da2=self.derivative_lossfunction(a2,X)\n",
    "        dz2=self.derivative_sigmoid(a2)*da2\n",
    "        \n",
    "        dw2=dz2@a1.T/self.input_dim\n",
    "        \n",
    "        db2=np.sum(dz2,axis=1,keepdims=True)/self.input_dim\n",
    "        da1=self.weights_input_hidden@dz2\n",
    "        dz1=self.derivative_sigmoid(a1)*da1\n",
    "         \n",
    "        dw1=dz1@X.T/self.input_dim\n",
    "        db1=np.sum(dz1,axis=1,keepdims=True)/self.input_dim\n",
    "        \n",
    "        \n",
    "        return dw1,db1,dw2,db2\n",
    "    \n",
    "    \n",
    "    def update_weights(self, learning_rate, dw1, db1, dw2, db2,momentum_rate):\n",
    "        self.momentum_input_hidden = momentum_rate * self.momentum_input_hidden + learning_rate * (dw1 + dw2.T)\n",
    "        self.weights_input_hidden -= self.momentum_input_hidden\n",
    "        self.bias_input_hidden_momentum = momentum_rate * self.bias_input_hidden_momentum + learning_rate * db1\n",
    "        self.bias_input_hidden -= self.bias_input_hidden_momentum\n",
    "        self.bias_hidden_output_momentum = momentum_rate * self.bias_hidden_output_momentum + learning_rate * db2\n",
    "        self.bias_hidden_output -= self.bias_hidden_output_momentum\n",
    "    def train(self,X,epochs,learning_rate,momentum_rate):\n",
    "        for i in range(epochs):\n",
    "            z1,a1,z2,a2=self.forward(X)\n",
    "            dw1,db1,dw2,db2=self.backward(X,a2,z2,a1,z1)\n",
    "            self.update_weights(learning_rate,dw1,db1,dw2,db2,momentum_rate)\n",
    "            if i % 10 == 0:\n",
    "                print(f\"Epoch {i} loss: {self.lossfunction(a2,X)}\")\n",
    "            \n",
    "            \n",
    "            \n",
    "            \n",
    "    def predict(self,X):\n",
    "        z1,a1,z2,a2=self.forward(X)\n",
    "        return a2\n"
   ]
  },
  {
   "cell_type": "code",
   "execution_count": 1,
   "metadata": {},
   "outputs": [],
   "source": [
    "from sklearn.datasets import fetch_openml\n",
    "import numpy as np\n",
    "\n",
    "# Load MNIST\n",
    "mnist = fetch_openml('mnist_784', version=1)\n",
    "X = mnist.data.values / 255.0  # Normalize to [0,1]\n",
    "X = X.T  # Now shape is (784, num_samples)\n"
   ]
  },
  {
   "cell_type": "code",
   "execution_count": 2,
   "metadata": {},
   "outputs": [
    {
     "ename": "NameError",
     "evalue": "name 'X' is not defined",
     "output_type": "error",
     "traceback": [
      "\u001b[1;31m---------------------------------------------------------------------------\u001b[0m",
      "\u001b[1;31mNameError\u001b[0m                                 Traceback (most recent call last)",
      "Cell \u001b[1;32mIn[2], line 2\u001b[0m\n\u001b[0;32m      1\u001b[0m \u001b[38;5;66;03m# Create and train the autoencoder\u001b[39;00m\n\u001b[1;32m----> 2\u001b[0m autoencoder_with_weight_tying_momentum \u001b[38;5;241m=\u001b[39m Autoencoder_with_cross_entropy_with_weight_tying_with_Momentum(\u001b[43mX\u001b[49m, hidden_dim\u001b[38;5;241m=\u001b[39m\u001b[38;5;241m32\u001b[39m)\n\u001b[0;32m      3\u001b[0m autoencoder_with_weight_tying_momentum\u001b[38;5;241m.\u001b[39mtrain(X, epochs\u001b[38;5;241m=\u001b[39m\u001b[38;5;241m100\u001b[39m, learning_rate\u001b[38;5;241m=\u001b[39m\u001b[38;5;241m0.01\u001b[39m,momentum_rate\u001b[38;5;241m=\u001b[39m\u001b[38;5;241m0.999\u001b[39m)\n",
      "\u001b[1;31mNameError\u001b[0m: name 'X' is not defined"
     ]
    }
   ],
   "source": [
    "# Create and train the autoencoder\n",
    "autoencoder_with_weight_tying_momentum = Autoencoder_with_cross_entropy_with_weight_tying_with_Momentum(X, hidden_dim=32)\n",
    "autoencoder_with_weight_tying_momentum.train(X, epochs=100, learning_rate=0.01,momentum_rate=0.999)\n",
    "\n"
   ]
  },
  {
   "cell_type": "code",
   "execution_count": null,
   "metadata": {},
   "outputs": [],
   "source": [
    "import "
   ]
  }
 ],
 "metadata": {
  "kernelspec": {
   "display_name": "Python 3",
   "language": "python",
   "name": "python3"
  },
  "language_info": {
   "codemirror_mode": {
    "name": "ipython",
    "version": 3
   },
   "file_extension": ".py",
   "mimetype": "text/x-python",
   "name": "python",
   "nbconvert_exporter": "python",
   "pygments_lexer": "ipython3",
   "version": "3.11.9"
  }
 },
 "nbformat": 4,
 "nbformat_minor": 2
}
